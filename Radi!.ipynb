{
 "cells": [
  {
   "cell_type": "code",
   "execution_count": 11,
   "metadata": {
    "collapsed": false
   },
   "outputs": [
    {
     "data": {
      "text/plain": [
       "True"
      ]
     },
     "execution_count": 11,
     "metadata": {},
     "output_type": "execute_result"
    }
   ],
   "source": [
    "import cv2\n",
    "import numpy as np\n",
    "import imutils\n",
    "from matplotlib import pyplot as plt\n",
    "\n",
    "\n",
    "class Stitcher:\n",
    "    @classmethod\n",
    "    def drawMatches(cls, imageA, imageB, kpsA, kpsB, matches, status):\n",
    "        # initialize the output visualization image\n",
    "        (hA, wA) = imageA.shape[:2]\n",
    "        (hB, wB) = imageB.shape[:2]\n",
    "        vis = np.zeros((max(hA, hB), wA + wB, 3), dtype=\"uint8\")\n",
    "        vis[0:hA, 0:wA] = imageA\n",
    "        vis[0:hB, wA:] = imageB\n",
    "        # loop over the matches\n",
    "        for ((trainIdx, queryIdx), s) in zip(matches, status):\n",
    "            # only process the match if the keypoint was successfully\n",
    "            # matched\n",
    "            if s == 1:\n",
    "                # draw the match\n",
    "                ptA = (int(kpsA[queryIdx].pt[0]), int(kpsA[queryIdx].pt[1]))\n",
    "                ptB = (int(kpsB[trainIdx].pt[0]) + wA, int(kpsB[trainIdx].pt[1]))\n",
    "                cv2.line(vis, ptA, ptB, (0, 255, 0), 1)\n",
    "        return vis\n",
    "\n",
    "    @classmethod\n",
    "    def keymatch(cls, match):\n",
    "        dist1 = np.abs(1-(match[0].distance / match[1].distance))\n",
    "        return dist1\n",
    "    @classmethod\n",
    "    def matchKeypoints(cls, kpsA, kpsB, featuresA, featuresB):\n",
    "        # compute the raw matches and initialize the list of actual\n",
    "        # matches\n",
    "        matcher = cv2.DescriptorMatcher_create(\"BruteForce\")\n",
    "        rawMatches = matcher.knnMatch(featuresA, featuresB, 2)\n",
    "        rawMatches = sorted(rawMatches, key=cls.keymatch)\n",
    "        #for m in rawMatches:\n",
    "            #print(m[0].distance)\n",
    "            #print(m[1].distance)\n",
    "            #print('------------------')\n",
    "        matches = []\n",
    "        # loop over the raw matches\n",
    "\n",
    "        for m in rawMatches:\n",
    "            # ensure the distance is within a certain ratio of each\n",
    "            # other (i.e. Lowe's ratio test)\n",
    "            #print(m[0].distance / m[1].distance)\n",
    "            #print(m)\n",
    "            if 0.7 < m[0].distance / m[1].distance < 1.3:\n",
    "                matches.append((m[0].trainIdx, m[0].queryIdx))\n",
    "\n",
    "\n",
    "            # computing a homography requires at least 4 matches\n",
    "        if len(matches) > 4:\n",
    "            # construct the two sets of points\n",
    "            #print(kpsA[0].pt)\n",
    "            ptsA = np.float32([kpsA[i].pt for (_, i) in matches])\n",
    "            ptsB = np.float32([kpsB[i].pt for (i, _) in matches])\n",
    "            #print(ptsA)\n",
    "            #print(ptsB)\n",
    "            # compute the homography between the two sets of points\n",
    "            (H, status) = cv2.findHomography(ptsA, ptsB, cv2.RANSAC,4)\n",
    "            #print(H[:2][:2])\n",
    "            #print(H[:2, :2])\n",
    "            #print(np.linalg.det(H[:2, :2]))\n",
    "            # return the matches along with the homograpy matrix\n",
    "            # and status of each matched point\n",
    "            return (matches, H, status)\n",
    "\n",
    "        # otherwise, no homograpy could be computed\n",
    "        return None\n",
    "\n",
    "    @classmethod\n",
    "    def detectAndDescribe(cls, image):\n",
    "        # convert the image to grayscale\n",
    "        gray = cv2.cvtColor(image, cv2.COLOR_BGR2GRAY)\n",
    "\n",
    "        # detect and extract features from the image\n",
    "        descriptor = cv2.xfeatures2d.SIFT_create()\n",
    "        (kps, features) = descriptor.detectAndCompute(image, None)\n",
    "        return (kps, features)\n",
    "\n",
    "    @classmethod\n",
    "    def stitch(cls, images, showMatches=False):\n",
    "        # unpack the images, then detect keypoints and extract\n",
    "        # local invariant descriptors from them\n",
    "        (imageA, imageB) = images\n",
    "        (kpsA, featuresA) = cls.detectAndDescribe(imageA)\n",
    "        (kpsB, featuresB) = cls.detectAndDescribe(imageB)\n",
    "        # match features between the two images\n",
    "        M = cls.matchKeypoints(kpsA, kpsB,featuresA, featuresB)\n",
    "        # if the match is None, then there aren't enough matched\n",
    "        # keypoints to create a panorama\n",
    "        if M is None:\n",
    "            return None\n",
    "        # otherwise, apply a perspective warp to stitch the images together\n",
    "        (matches, H, status) = M\n",
    "        result = cv2.warpPerspective(imageA, H, (imageA.shape[1] + imageB.shape[1], imageA.shape[0]))\n",
    "        #result[0:imageB.shape[0], 0:imageB.shape[1]] = imageB\n",
    "\n",
    "        # check to see if the keypoint matches should be visualized\n",
    "        if showMatches:\n",
    "            vis = cls.drawMatches(imageA, imageB, kpsA, kpsB, matches, status)\n",
    "\n",
    "            # return a tuple of the stitched image and the\n",
    "            # visualization\n",
    "            return (result, vis)\n",
    "\n",
    "        # return the stitched image\n",
    "        return (result, None)\n",
    "\n",
    "imageA = cv2.imread('carmel-00.png')\n",
    "imageB = cv2.imread('carmel-01.png')\n",
    "imageA = imutils.resize(imageA, width=600)\n",
    "imageB = imutils.resize(imageB, width=600)\n",
    "(kpsA, ftsA) = Stitcher.detectAndDescribe(imageA)\n",
    "(kpsB, ftsB) = Stitcher.detectAndDescribe(imageB)\n",
    "#a = Stitcher.stitch([imageA, imageB], showMatches=True)\n",
    "# if a is not None:\n",
    "#     cv2.imwrite('out.png', a[0])\n",
    "#     cv2.imwrite('vis.png', a[1])\n",
    "kpsImgA = None\n",
    "kpsImgB = None\n",
    "kpsImgA=cv2.drawKeypoints(imageA, kpsA, kpsImgA)\n",
    "kpsImgB=cv2.drawKeypoints(imageB, kpsB, kpsImgB)\n",
    "cv2.imwrite('kpsA.png', kpsImgA)\n",
    "cv2.imwrite('kpsB.png', kpsImgB)"
   ]
  },
  {
   "cell_type": "code",
   "execution_count": 50,
   "metadata": {
    "collapsed": false
   },
   "outputs": [],
   "source": [
    "orb = cv2.ORB_create()\n",
    "bf = cv2.BFMatcher(cv2.NORM_L1,crossCheck=False)\n",
    "matches = bf.match(ftsA,ftsB)\n",
    "matches = sorted(matches, key=lambda x:x.distance)\n",
    "# for m in matches[:10]:\n",
    "#     print(m.distance)\n",
    "matchImg = None\n",
    "matchImg = cv2.drawMatches(imageA, kpsA, imageB, kpsB, matches[:10], matchImg)\n",
    "cv2.imwrite('matched.png', matchImg)\n",
    "matchesIdx = [(m.queryIdx, m.trainIdx) for m in matches[:10]]\n",
    "matchesCoordA = np.float32([kpsA[mind[0]].pt for mind in matchesIdx])\n",
    "matchesCoordB = np.float32([kpsB[mind[1]].pt for mind in matchesIdx])\n"
   ]
  },
  {
   "cell_type": "code",
   "execution_count": 64,
   "metadata": {
    "collapsed": false
   },
   "outputs": [
    {
     "data": {
      "text/plain": [
       "True"
      ]
     },
     "execution_count": 64,
     "metadata": {},
     "output_type": "execute_result"
    }
   ],
   "source": [
    "(H, mask) = cv2.findHomography(matchesCoordA, matchesCoordB, cv2.RANSAC)\n",
    "np.linalg.det(H[:2, :2])\n",
    "# B=cv2.getPerspectiveTransform(matchesCoordA[:4], matchesCoordB[:4])\n",
    "# np.linalg.det(B)\n",
    "imgDest = None\n",
    "imgDest = cv2.warpPerspective(imageA, H, (imageA.shape[0]+imageB.shape[0], imageB.spahe[1]))\n",
    "imgDest[0:imageB.shape[0], 0:imageB.shape[1]] = imageB\n",
    "cv2.imwrite('warped.png', imgDest)"
   ]
  },
  {
   "cell_type": "code",
   "execution_count": null,
   "metadata": {
    "collapsed": true
   },
   "outputs": [],
   "source": []
  }
 ],
 "metadata": {
  "kernelspec": {
   "display_name": "Python 3",
   "language": "python",
   "name": "python3"
  },
  "language_info": {
   "codemirror_mode": {
    "name": "ipython",
    "version": 3
   },
   "file_extension": ".py",
   "mimetype": "text/x-python",
   "name": "python",
   "nbconvert_exporter": "python",
   "pygments_lexer": "ipython3",
   "version": "3.6.0"
  }
 },
 "nbformat": 4,
 "nbformat_minor": 2
}
